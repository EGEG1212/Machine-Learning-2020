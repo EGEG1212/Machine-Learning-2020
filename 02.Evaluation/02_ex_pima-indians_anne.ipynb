{
 "metadata": {
  "language_info": {
   "codemirror_mode": {
    "name": "ipython",
    "version": 3
   },
   "file_extension": ".py",
   "mimetype": "text/x-python",
   "name": "python",
   "nbconvert_exporter": "python",
   "pygments_lexer": "ipython3",
   "version": "3.8.5-final"
  },
  "orig_nbformat": 2,
  "kernelspec": {
   "name": "python3",
   "display_name": "Python 3",
   "language": "python"
  }
 },
 "nbformat": 4,
 "nbformat_minor": 2,
 "cells": [
  {
   "source": [
    "## 피마 인디언 당뇨병 예측 사례\n",
    "### 북아메리카 피마 지역 원주민의 Type-2 당뇨병 결과 데이터  \n",
    " 캐글 사이트(https://www.kaggle.com/uciml/pima-indians-diabetes-database)  \n",
    " Feature 설명  \n",
    "• Pregnancies: 임신 횟수  \n",
    "• Glucose: 포도당 부하 검사 수치  \n",
    "• BloodPressure: 혈압  \n",
    "• SkinThickness: 팔 삼두근 뒤쪽의 피하지방 측정값  \n",
    "• Insulin: 혈청 인슐린  \n",
    "• BMI: 체질량 지수(체중/키)  \n",
    "• DiabetesPedigreeFunction: 당뇨 내력 가중치 값  \n",
    "• Age: 나이  \n",
    "• Outcome: 클래스 결정 값 \n",
    "\n",
    "https://blog.naver.com/mo223772/222032328170  \n",
    "keras모듈 https://wikidocs.net/50137  \n",
    "이건뭔가... https://blog.naver.com/thdgmltjd123/222159424025  \n",
    "\n"
   ],
   "cell_type": "markdown",
   "metadata": {}
  },
  {
   "cell_type": "code",
   "execution_count": 21,
   "metadata": {},
   "outputs": [
    {
     "output_type": "stream",
     "name": "stdout",
     "text": [
      "0    500\n1    268\nName: Outcome, dtype: int64\n"
     ]
    },
    {
     "output_type": "execute_result",
     "data": {
      "text/plain": [
       "   Pregnancies  Glucose  BloodPressure  ...  DiabetesPedigreeFunction  Age  Outcome\n",
       "0            6      148             72  ...                     0.627   50        1\n",
       "1            1       85             66  ...                     0.351   31        0\n",
       "2            8      183             64  ...                     0.672   32        1\n",
       "3            1       89             66  ...                     0.167   21        0\n",
       "4            0      137             40  ...                     2.288   33        1\n",
       "\n",
       "[5 rows x 9 columns]"
      ],
      "text/html": "<div>\n<style scoped>\n    .dataframe tbody tr th:only-of-type {\n        vertical-align: middle;\n    }\n\n    .dataframe tbody tr th {\n        vertical-align: top;\n    }\n\n    .dataframe thead th {\n        text-align: right;\n    }\n</style>\n<table border=\"1\" class=\"dataframe\">\n  <thead>\n    <tr style=\"text-align: right;\">\n      <th></th>\n      <th>Pregnancies</th>\n      <th>Glucose</th>\n      <th>BloodPressure</th>\n      <th>SkinThickness</th>\n      <th>Insulin</th>\n      <th>BMI</th>\n      <th>DiabetesPedigreeFunction</th>\n      <th>Age</th>\n      <th>Outcome</th>\n    </tr>\n  </thead>\n  <tbody>\n    <tr>\n      <th>0</th>\n      <td>6</td>\n      <td>148</td>\n      <td>72</td>\n      <td>35</td>\n      <td>0</td>\n      <td>33.6</td>\n      <td>0.627</td>\n      <td>50</td>\n      <td>1</td>\n    </tr>\n    <tr>\n      <th>1</th>\n      <td>1</td>\n      <td>85</td>\n      <td>66</td>\n      <td>29</td>\n      <td>0</td>\n      <td>26.6</td>\n      <td>0.351</td>\n      <td>31</td>\n      <td>0</td>\n    </tr>\n    <tr>\n      <th>2</th>\n      <td>8</td>\n      <td>183</td>\n      <td>64</td>\n      <td>0</td>\n      <td>0</td>\n      <td>23.3</td>\n      <td>0.672</td>\n      <td>32</td>\n      <td>1</td>\n    </tr>\n    <tr>\n      <th>3</th>\n      <td>1</td>\n      <td>89</td>\n      <td>66</td>\n      <td>23</td>\n      <td>94</td>\n      <td>28.1</td>\n      <td>0.167</td>\n      <td>21</td>\n      <td>0</td>\n    </tr>\n    <tr>\n      <th>4</th>\n      <td>0</td>\n      <td>137</td>\n      <td>40</td>\n      <td>35</td>\n      <td>168</td>\n      <td>43.1</td>\n      <td>2.288</td>\n      <td>33</td>\n      <td>1</td>\n    </tr>\n  </tbody>\n</table>\n</div>"
     },
     "metadata": {},
     "execution_count": 21
    }
   ],
   "source": [
    "import numpy as np\n",
    "import pandas as pd\n",
    "import matplotlib.pyplot as plt\n",
    "%matplotlib inline\n",
    "\n",
    "from sklearn.model_selection import train_test_split\n",
    "from sklearn.metrics import accuracy_score, precision_score, recall_score, roc_auc_score\n",
    "from sklearn.metrics import f1_score, confusion_matrix, precision_recall_curve, roc_curve\n",
    "from sklearn.preprocessing import StandardScaler\n",
    "from sklearn.linear_model import LogisticRegression\n",
    "\n",
    "diabates_data = pd.read_csv('../00.data/pima-indians/diabetes.csv')\n",
    "print(diabates_data['Outcome'].value_counts())\n",
    "diabates_data.head()"
   ]
  },
  {
   "cell_type": "code",
   "execution_count": 22,
   "metadata": {},
   "outputs": [
    {
     "output_type": "stream",
     "name": "stdout",
     "text": [
      "<class 'pandas.core.frame.DataFrame'>\nRangeIndex: 768 entries, 0 to 767\nData columns (total 9 columns):\n #   Column                    Non-Null Count  Dtype  \n---  ------                    --------------  -----  \n 0   Pregnancies               768 non-null    int64  \n 1   Glucose                   768 non-null    int64  \n 2   BloodPressure             768 non-null    int64  \n 3   SkinThickness             768 non-null    int64  \n 4   Insulin                   768 non-null    int64  \n 5   BMI                       768 non-null    float64\n 6   DiabetesPedigreeFunction  768 non-null    float64\n 7   Age                       768 non-null    int64  \n 8   Outcome                   768 non-null    int64  \ndtypes: float64(2), int64(7)\nmemory usage: 54.1 KB\n"
     ]
    }
   ],
   "source": [
    "diabates_data.info() #Nan값은없다"
   ]
  },
  {
   "cell_type": "code",
   "execution_count": 26,
   "metadata": {},
   "outputs": [
    {
     "output_type": "execute_result",
     "data": {
      "text/plain": [
       "Pregnancies                 0\n",
       "Glucose                     0\n",
       "BloodPressure               0\n",
       "SkinThickness               0\n",
       "Insulin                     0\n",
       "BMI                         0\n",
       "DiabetesPedigreeFunction    0\n",
       "Age                         0\n",
       "Outcome                     0\n",
       "dtype: int64"
      ]
     },
     "metadata": {},
     "execution_count": 26
    }
   ],
   "source": [
    "diabates_data.isnull().sum()"
   ]
  },
  {
   "cell_type": "code",
   "execution_count": 27,
   "metadata": {},
   "outputs": [],
   "source": [
    "features = diabates_data.columns.difference(['Outcome'])\n",
    "label = 'Outcome'\n",
    "\n",
    "X = diabates_data[features]\n",
    "y = diabates_data[label]"
   ]
  },
  {
   "cell_type": "code",
   "execution_count": 28,
   "metadata": {},
   "outputs": [],
   "source": [
    "X_train, X_test, y_train, y_test = train_test_split(X, y, test_size=0.2, random_state=121)\n",
    "lr_clf = LogisticRegression()\n",
    "lr_clf.fit(X_train, y_train)\n",
    "pred = lr_clf.predict(X_test)"
   ]
  },
  {
   "cell_type": "code",
   "execution_count": 29,
   "metadata": {},
   "outputs": [
    {
     "output_type": "execute_result",
     "data": {
      "text/plain": [
       "array([0, 0, 0, 0, 0, 0, 0, 0, 0, 0, 1, 0, 0, 0, 0, 0, 0, 0, 1, 0, 0, 0,\n",
       "       1, 0, 0, 1, 0, 0, 0, 0, 1, 1, 1, 0, 1, 0, 1, 0, 0, 1, 1, 0, 1, 1,\n",
       "       0, 1, 0, 0, 0, 0, 1, 0, 0, 0, 0, 0, 0, 1, 0, 0, 0, 0, 0, 0, 0, 1,\n",
       "       1, 1, 1, 0, 1, 0, 0, 1, 0, 0, 0, 0, 0, 1, 1, 0, 1, 0, 1, 0, 0, 0,\n",
       "       0, 1, 0, 0, 1, 0, 1, 0, 0, 0, 0, 1, 0, 1, 0, 1, 1, 0, 0, 0, 0, 0,\n",
       "       0, 0, 0, 0, 0, 0, 0, 0, 0, 0, 0, 0, 0, 1, 0, 1, 1, 0, 1, 0, 1, 0,\n",
       "       0, 0, 1, 0, 0, 1, 0, 1, 1, 0, 0, 0, 0, 1, 0, 0, 0, 0, 1, 0, 0, 0],\n",
       "      dtype=int64)"
      ]
     },
     "metadata": {},
     "execution_count": 29
    }
   ],
   "source": [
    "pred"
   ]
  },
  {
   "cell_type": "code",
   "execution_count": 36,
   "metadata": {},
   "outputs": [
    {
     "output_type": "execute_result",
     "data": {
      "text/plain": [
       "array([0.18896236, 0.10636506, 0.2648182 , 0.18950529, 0.18649355,\n",
       "       0.15250767, 0.30406002, 0.05591429, 0.3704629 , 0.34256567,\n",
       "       0.85857179, 0.48903222, 0.07685414, 0.45773551, 0.34345204,\n",
       "       0.16184385, 0.12099299, 0.13505228, 0.79620274, 0.1645629 ,\n",
       "       0.14487432, 0.40992476, 0.97457654, 0.31389307, 0.12872308,\n",
       "       0.56501402, 0.22109064, 0.114249  , 0.38437666, 0.18780912,\n",
       "       0.67458142, 0.75694037, 0.5040456 , 0.13921277, 0.923118  ,\n",
       "       0.05108994, 0.66976588, 0.15503958, 0.16357045, 0.71929744,\n",
       "       0.96928898, 0.31022597, 0.52421618, 0.77614334, 0.11770105,\n",
       "       0.82125499, 0.2018167 , 0.17808993, 0.1752301 , 0.08541268,\n",
       "       0.56350925, 0.29074877, 0.33047468, 0.26907004, 0.21871199,\n",
       "       0.12876731, 0.06663562, 0.61964848, 0.26454644, 0.1039207 ,\n",
       "       0.10320541, 0.1074115 , 0.09560443, 0.4796795 , 0.03380149,\n",
       "       0.7757294 , 0.62727547, 0.89854325, 0.87275523, 0.19209472,\n",
       "       0.74842963, 0.21471106, 0.14865419, 0.64758664, 0.21106775,\n",
       "       0.31325698, 0.19618759, 0.2065161 , 0.28163396, 0.65981466,\n",
       "       0.61677631, 0.04479141, 0.6756294 , 0.049009  , 0.83818297,\n",
       "       0.36020737, 0.10947491, 0.33961064, 0.06828659, 0.71686614,\n",
       "       0.07454258, 0.09663968, 0.80196907, 0.03542844, 0.82055308,\n",
       "       0.48850277, 0.0268276 , 0.13035351, 0.10167894, 0.63081031,\n",
       "       0.09400224, 0.61148763, 0.17989785, 0.65594165, 0.74778119,\n",
       "       0.19629305, 0.36203087, 0.34907613, 0.38107718, 0.25350133,\n",
       "       0.3943355 , 0.18825065, 0.1348479 , 0.0383334 , 0.27807655,\n",
       "       0.06104945, 0.1445534 , 0.02507111, 0.21204383, 0.40410632,\n",
       "       0.16970481, 0.08999738, 0.22340759, 0.64713047, 0.14884047,\n",
       "       0.50151027, 0.90005213, 0.39937628, 0.99674239, 0.25345388,\n",
       "       0.65689123, 0.22710433, 0.27843678, 0.18370409, 0.82393681,\n",
       "       0.23728148, 0.10096101, 0.9366543 , 0.18083985, 0.52645529,\n",
       "       0.9646963 , 0.06605475, 0.09350611, 0.1299497 , 0.24558489,\n",
       "       0.54188926, 0.0457051 , 0.31014304, 0.43347287, 0.33988778,\n",
       "       0.51974352, 0.1333721 , 0.29007469, 0.00971212])"
      ]
     },
     "metadata": {},
     "execution_count": 36
    }
   ],
   "source": [
    "pred_proba = lr_clf.predict_proba(X_test)[:,1]\n",
    "pred_proba"
   ]
  },
  {
   "cell_type": "code",
   "execution_count": 37,
   "metadata": {},
   "outputs": [
    {
     "output_type": "execute_result",
     "data": {
      "text/plain": [
       "array([0, 0, 0, 0, 0, 0, 0, 0, 0, 0, 1, 0], dtype=int64)"
      ]
     },
     "metadata": {},
     "execution_count": 37
    }
   ],
   "source": [
    "pred[:12]"
   ]
  },
  {
   "cell_type": "code",
   "execution_count": 38,
   "metadata": {},
   "outputs": [],
   "source": [
    "from sklearn.metrics import precision_score, recall_score, f1_score\n",
    "\n",
    "def get_clf_eval(y_test, pred):\n",
    "    confusion = confusion_matrix(y_test, pred)\n",
    "    accuracy = accuracy_score(y_test, pred)\n",
    "    precision = precision_score(y_test, pred)\n",
    "    recall = recall_score(y_test, pred)\n",
    "    f1 = f1_score(y_test, pred)\n",
    "    print('오차행렬')\n",
    "    print(confusion)\n",
    "    print(f'정확도: {accuracy:.4f}, 정밀도: {precision:.4f}, 재현율: {recall:.4f}, F1스코어: {f1:.4f}')"
   ]
  },
  {
   "cell_type": "code",
   "execution_count": 41,
   "metadata": {},
   "outputs": [
    {
     "output_type": "stream",
     "name": "stdout",
     "text": [
      "오차행렬\n[[93  7]\n [17 37]]\n정확도: 0.8442, 정밀도: 0.8409, 재현율: 0.6852, F1스코어: 0.7551\n"
     ]
    }
   ],
   "source": [
    "from sklearn.linear_model import LogisticRegression\n",
    "\n",
    "lr_clf = LogisticRegression()\n",
    "lr_clf.fit(X_train, y_train)\n",
    "pred = lr_clf.predict(X_test)\n",
    "get_clf_eval(y_test, pred)"
   ]
  },
  {
   "cell_type": "code",
   "execution_count": 44,
   "metadata": {},
   "outputs": [
    {
     "output_type": "execute_result",
     "data": {
      "text/plain": [
       "array([[0.81103764, 0.18896236],\n",
       "       [0.89363494, 0.10636506],\n",
       "       [0.7351818 , 0.2648182 ],\n",
       "       [0.81049471, 0.18950529],\n",
       "       [0.81350645, 0.18649355],\n",
       "       [0.84749233, 0.15250767],\n",
       "       [0.69593998, 0.30406002],\n",
       "       [0.94408571, 0.05591429],\n",
       "       [0.6295371 , 0.3704629 ],\n",
       "       [0.65743433, 0.34256567],\n",
       "       [0.14142821, 0.85857179],\n",
       "       [0.51096778, 0.48903222]])"
      ]
     },
     "metadata": {},
     "execution_count": 44
    }
   ],
   "source": [
    "pred_proba = lr_clf.predict_proba(X_test)\n",
    "pred_proba[:12,:]"
   ]
  },
  {
   "cell_type": "code",
   "execution_count": 45,
   "metadata": {},
   "outputs": [
    {
     "output_type": "stream",
     "name": "stdout",
     "text": [
      "오차행렬\n[[93  7]\n [17 37]]\n정확도: 0.8442, 정밀도: 0.8409, 재현율: 0.6852, F1스코어: 0.7551\n"
     ]
    }
   ],
   "source": [
    "#Binarizer의 threshold 설정값. 분류 결정 임곗값임.  \n",
    "custom_threshold = 0.5\n",
    "\n",
    "# predict_proba( ) 반환값의 두번째 컬럼,\n",
    "# 즉 Positive 클래스 컬럼 하나만 추출하여 Binarizer를 적용\n",
    "pred_proba_1 = pred_proba[:,1].reshape(-1,1)\n",
    "\n",
    "binarizer = Binarizer(threshold=custom_threshold)\n",
    "custom_predict = binarizer.fit_transform(pred_proba_1)\n",
    "\n",
    "get_clf_eval(y_test, custom_predict)"
   ]
  },
  {
   "cell_type": "code",
   "execution_count": 46,
   "metadata": {},
   "outputs": [
    {
     "output_type": "stream",
     "name": "stdout",
     "text": [
      "오차행렬\n[[88 12]\n [15 39]]\n정확도: 0.8247, 정밀도: 0.7647, 재현율: 0.7222, F1스코어: 0.7429\n"
     ]
    }
   ],
   "source": [
    "# Binarizer의 threshold 설정값을 0.4로 설정.\n",
    "custom_threshold = 0.4\n",
    "pred_proba_1 = pred_proba[:,1].reshape(-1,1)\n",
    "\n",
    "binarizer = Binarizer(threshold=custom_threshold)\n",
    "custom_predict = binarizer.fit_transform(pred_proba_1)\n",
    "\n",
    "get_clf_eval(y_test, custom_predict)"
   ]
  },
  {
   "cell_type": "code",
   "execution_count": 47,
   "metadata": {},
   "outputs": [
    {
     "output_type": "stream",
     "name": "stdout",
     "text": [
      "오차행렬\n[[97  3]\n [34 20]]\n정확도: 0.7597, 정밀도: 0.8696, 재현율: 0.3704, F1스코어: 0.5195\n"
     ]
    }
   ],
   "source": [
    "# Binarizer의 threshold 설정값을 0.7으로 설정.\n",
    "custom_threshold = 0.7\n",
    "pred_proba_1 = pred_proba[:,1].reshape(-1,1)\n",
    "\n",
    "binarizer = Binarizer(threshold=custom_threshold)\n",
    "custom_predict = binarizer.fit_transform(pred_proba_1)\n",
    "\n",
    "get_clf_eval(y_test, custom_predict)"
   ]
  },
  {
   "source": [
    "### F1 스코어"
   ],
   "cell_type": "markdown",
   "metadata": {}
  },
  {
   "cell_type": "code",
   "execution_count": 48,
   "metadata": {},
   "outputs": [
    {
     "output_type": "stream",
     "name": "stdout",
     "text": [
      "F1 스코어: 0.7551\n"
     ]
    }
   ],
   "source": [
    "from sklearn.metrics import f1_score\n",
    "\n",
    "f1 = f1_score(y_test, pred)\n",
    "print(f'F1 스코어: {f1:.4f}')"
   ]
  },
  {
   "source": [
    "### ROC AUC 스코어"
   ],
   "cell_type": "markdown",
   "metadata": {}
  },
  {
   "cell_type": "code",
   "execution_count": 49,
   "metadata": {},
   "outputs": [
    {
     "output_type": "stream",
     "name": "stdout",
     "text": [
      "ROC AUC 스코어: 0.8076\n"
     ]
    }
   ],
   "source": [
    "from sklearn.metrics import roc_auc_score\n",
    "\n",
    "roc_auc = roc_auc_score(y_test, pred)\n",
    "print(f'ROC AUC 스코어: {roc_auc:.4f}')"
   ]
  }
 ]
}