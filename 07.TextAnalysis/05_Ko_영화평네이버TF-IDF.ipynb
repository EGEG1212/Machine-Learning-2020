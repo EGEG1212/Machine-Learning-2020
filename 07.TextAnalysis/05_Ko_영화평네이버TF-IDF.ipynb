{
 "metadata": {
  "language_info": {
   "codemirror_mode": {
    "name": "ipython",
    "version": 3
   },
   "file_extension": ".py",
   "mimetype": "text/x-python",
   "name": "python",
   "nbconvert_exporter": "python",
   "pygments_lexer": "ipython3",
   "version": "3.8.5-final"
  },
  "orig_nbformat": 2,
  "kernelspec": {
   "name": "python3",
   "display_name": "Python 3",
   "language": "python"
  }
 },
 "nbformat": 4,
 "nbformat_minor": 2,
 "cells": [
  {
   "source": [
    "## 네이버 영화평 감성 분석 - TfidfVectorizer"
   ],
   "cell_type": "markdown",
   "metadata": {}
  },
  {
   "cell_type": "code",
   "execution_count": 1,
   "metadata": {},
   "outputs": [],
   "source": [
    "import pandas as pd\n",
    "import numpy as np"
   ]
  },
  {
   "cell_type": "code",
   "execution_count": 33,
   "metadata": {},
   "outputs": [],
   "source": [
    "#전처리끝난 파일 불러옴\n",
    "train_df = pd.read_csv('../00.data/NaverMovie/train.tsv', sep='\\t')\n",
    "test_df = pd.read_csv('../00.data/NaverMovie/test.tsv', sep='\\t')"
   ]
  },
  {
   "cell_type": "code",
   "execution_count": 21,
   "metadata": {},
   "outputs": [
    {
     "output_type": "execute_result",
     "data": {
      "text/plain": [
       "   Unnamed: 0        id                    document  label\n",
       "0           0   9976970           아 더빙 진짜 짜증나네요 목소리      0\n",
       "1           1   3819312  흠포스터보고 초딩영화줄오버연기조차 가볍지 않구나      1\n",
       "2           2  10265843           너무재밓었다그래서보는것을추천한다      0"
      ],
      "text/html": "<div>\n<style scoped>\n    .dataframe tbody tr th:only-of-type {\n        vertical-align: middle;\n    }\n\n    .dataframe tbody tr th {\n        vertical-align: top;\n    }\n\n    .dataframe thead th {\n        text-align: right;\n    }\n</style>\n<table border=\"1\" class=\"dataframe\">\n  <thead>\n    <tr style=\"text-align: right;\">\n      <th></th>\n      <th>Unnamed: 0</th>\n      <th>id</th>\n      <th>document</th>\n      <th>label</th>\n    </tr>\n  </thead>\n  <tbody>\n    <tr>\n      <th>0</th>\n      <td>0</td>\n      <td>9976970</td>\n      <td>아 더빙 진짜 짜증나네요 목소리</td>\n      <td>0</td>\n    </tr>\n    <tr>\n      <th>1</th>\n      <td>1</td>\n      <td>3819312</td>\n      <td>흠포스터보고 초딩영화줄오버연기조차 가볍지 않구나</td>\n      <td>1</td>\n    </tr>\n    <tr>\n      <th>2</th>\n      <td>2</td>\n      <td>10265843</td>\n      <td>너무재밓었다그래서보는것을추천한다</td>\n      <td>0</td>\n    </tr>\n  </tbody>\n</table>\n</div>"
     },
     "metadata": {},
     "execution_count": 21
    }
   ],
   "source": [
    "train_df.head(3)"
   ]
  },
  {
   "source": [
    "아까 04_는 토큰화해서 넣어줬는데, 토크나이저함수를 써서 해볼게용  \n",
    "은는이가을를 이런것들 확률을 낮춰줄꺼니까\n",
    "### Tokenizer 함수 정의"
   ],
   "cell_type": "markdown",
   "metadata": {}
  },
  {
   "cell_type": "code",
   "execution_count": 9,
   "metadata": {},
   "outputs": [],
   "source": [
    "from konlpy.tag import Okt\n",
    "\n",
    "okt = Okt()\n",
    "def tw_tokenizer(text):\n",
    "    tokens_ko = okt.morphs(text)\n",
    "    return tokens_ko"
   ]
  },
  {
   "source": [
    "### TfidfVectorizer로 학습/변환"
   ],
   "cell_type": "markdown",
   "metadata": {}
  },
  {
   "cell_type": "code",
   "execution_count": 10,
   "metadata": {},
   "outputs": [],
   "source": [
    "from sklearn.feature_extraction.text import TfidfVectorizer\n",
    "\n",
    "tvecter = TfidfVectorizer(tokenizer=tw_tokenizer, ngram_range=(1,2), min_df=3, max_df=0.9) #여기에 함수사용"
   ]
  },
  {
   "cell_type": "code",
   "execution_count": 11,
   "metadata": {},
   "outputs": [
    {
     "output_type": "stream",
     "name": "stdout",
     "text": [
      "Wall time: 8min 18s\n"
     ]
    },
    {
     "output_type": "execute_result",
     "data": {
      "text/plain": [
       "TfidfVectorizer(max_df=0.9, min_df=3, ngram_range=(1, 2),\n",
       "                tokenizer=<function tw_tokenizer at 0x000001D25806AB80>)"
      ]
     },
     "metadata": {},
     "execution_count": 11
    }
   ],
   "source": [
    "%time tvecter.fit(train_df.document) #%time 소요시간안내해줌\n",
    "# 교수님코드: %time tvecter.fit(train_df['document'])\n",
    "#15분돌아갈지도...8분소요됨\n",
    "#결과값 Wall time: 8min 18s\n",
    "# TfidfVectorizer(max_df=0.9, min_df=3, ngram_range=(1, 2),\n",
    "#                 tokenizer=<function tw_tokenizer at 0x000001D25806AB80>)"
   ]
  },
  {
   "cell_type": "code",
   "execution_count": 12,
   "metadata": {},
   "outputs": [],
   "source": [
    "# X_train만들기 12:02~12:11 9분소요\n",
    "%time X_train_tvect = tvecter.transform(train_df['document'])"
   ]
  },
  {
   "cell_type": "code",
   "execution_count": 13,
   "metadata": {},
   "outputs": [
    {
     "output_type": "stream",
     "name": "stdout",
     "text": [
      "Wall time: 2min 49s\n"
     ]
    }
   ],
   "source": [
    "# X_test만들기 12:11~12:15 4분소요\n",
    "%time X_test_tvect = tvecter.transform(test_df['document'])"
   ]
  },
  {
   "cell_type": "code",
   "execution_count": 35,
   "metadata": {},
   "outputs": [],
   "source": [
    "y_train = train_df.label.values\n",
    "y_test = test_df.label.values"
   ]
  },
  {
   "source": [
    "### LogisticRegression으로 학습/예측/평가"
   ],
   "cell_type": "markdown",
   "metadata": {}
  },
  {
   "cell_type": "code",
   "execution_count": 14,
   "metadata": {},
   "outputs": [],
   "source": [
    "from sklearn.linear_model import LogisticRegression\n",
    "lr_clf = LogisticRegression()"
   ]
  },
  {
   "cell_type": "code",
   "execution_count": 15,
   "metadata": {},
   "outputs": [
    {
     "output_type": "execute_result",
     "data": {
      "text/plain": [
       "0.8531074599448923"
      ]
     },
     "metadata": {},
     "execution_count": 15
    }
   ],
   "source": [
    "from sklearn.metrics import accuracy_score\n",
    "lr_clf.fit(X_train_tvect, train_df.label)\n",
    "pred = lr_clf.predict(X_test_tvect)\n",
    "accuracy_score(test_df.label, pred)\n",
    "#그냥 했을때 결과값:0.8531"
   ]
  },
  {
   "cell_type": "code",
   "execution_count": 36,
   "metadata": {},
   "outputs": [
    {
     "output_type": "execute_result",
     "data": {
      "text/plain": [
       "0.8584753546280233"
      ]
     },
     "metadata": {},
     "execution_count": 36
    }
   ],
   "source": [
    "#교수님코드:LogisticRegression으로 학습/예측/평가 \n",
    "lr_clf = LogisticRegression(C=3.5)\n",
    "lr_clf.fit(X_train_tvect, y_train)\n",
    "pred = lr_clf.predict(X_test_tvect)\n",
    "accuracy_score(y_test, pred)\n",
    "#교수님결과 0.8584"
   ]
  },
  {
   "source": [
    "### 실제테스트 04_에 이어서 또 해보기;; 토크나이저함수가 있어서 별도의 형태소분석을 해줄 필요가 없다 "
   ],
   "cell_type": "markdown",
   "metadata": {}
  },
  {
   "cell_type": "code",
   "execution_count": 18,
   "metadata": {},
   "outputs": [],
   "source": [
    "review1 = '진짜 개노잼이다.. 1편이랑 같은 감독맞나?러닝타임도 길어서 개지루함 ㄹㅇ'\n",
    "review2 = '이런 사랑영화가 다시 나올 수 있을까?'"
   ]
  },
  {
   "cell_type": "code",
   "execution_count": 22,
   "metadata": {},
   "outputs": [
    {
     "output_type": "execute_result",
     "data": {
      "text/plain": [
       "0"
      ]
     },
     "metadata": {},
     "execution_count": 22
    }
   ],
   "source": [
    "import re\n",
    "review = re.sub(\"[^ㄱ-ㅎㅏ-ㅣ가-힣 ]\",\"\", review1)\n",
    "review_tvect = tvecter.transform([review])\n",
    "pred = lr_clf.predict(review_tvect)\n",
    "pred[0] #0부정 1긍정 :결과값1"
   ]
  },
  {
   "cell_type": "code",
   "execution_count": 23,
   "metadata": {},
   "outputs": [
    {
     "output_type": "execute_result",
     "data": {
      "text/plain": [
       "1"
      ]
     },
     "metadata": {},
     "execution_count": 23
    }
   ],
   "source": [
    "review = re.sub(\"[^ㄱ-ㅎㅏ-ㅣ가-힣 ]\",\"\", review2) #리뷰2를 넣었더니\n",
    "review_tvect = tvecter.transform([review])\n",
    "pred = lr_clf.predict(review_tvect)\n",
    "pred[0] #0부정 1긍정 :결과값1 긍정으로 평가를 잘했다."
   ]
  },
  {
   "cell_type": "code",
   "execution_count": 24,
   "metadata": {},
   "outputs": [],
   "source": [
    "reviews = ['진짜 개노잼이다.. 1편이랑 같은 감독맞나?러닝타임도 길어서 개지루함 ㄹㅇ', '이런 사랑영화가 다시 나올 수 있을까?']"
   ]
  },
  {
   "cell_type": "code",
   "execution_count": 30,
   "metadata": {},
   "outputs": [
    {
     "output_type": "stream",
     "name": "stdout",
     "text": [
      "['진짜 개노잼이다 편이랑 같은 감독맞나러닝타임도 길어서 개지루함 ㄹㅇ', '이런 사랑영화가 다시 나올 수 있을까']\n"
     ]
    }
   ],
   "source": [
    "reviews = list(map(lambda x: re.sub(\"[^ㄱ-ㅎㅏ-ㅣ가-힣 ]\",\"\", x), reviews))\n",
    "print(reviews)"
   ]
  },
  {
   "cell_type": "code",
   "execution_count": 31,
   "metadata": {},
   "outputs": [
    {
     "output_type": "execute_result",
     "data": {
      "text/plain": [
       "(0, 1)"
      ]
     },
     "metadata": {},
     "execution_count": 31
    }
   ],
   "source": [
    "review_tvect = tvecter.transform(reviews)\n",
    "pred = lr_clf.predict(review_tvect)\n",
    "pred[0], pred[1]"
   ]
  },
  {
   "source": [
    "### GridSearchCV로 최적의 파라미터 찾기"
   ],
   "cell_type": "markdown",
   "metadata": {}
  },
  {
   "cell_type": "code",
   "execution_count": 37,
   "metadata": {},
   "outputs": [],
   "source": [
    "from sklearn.model_selection import GridSearchCV"
   ]
  },
  {
   "cell_type": "code",
   "execution_count": 38,
   "metadata": {},
   "outputs": [
    {
     "output_type": "stream",
     "name": "stdout",
     "text": [
      "Fitting 3 folds for each of 4 candidates, totalling 12 fits\n",
      "[Parallel(n_jobs=1)]: Using backend SequentialBackend with 1 concurrent workers.\n",
      "[Parallel(n_jobs=1)]: Done  12 out of  12 | elapsed:   50.7s finished\n",
      "{'C': 3.5} 0.8550664993037979\n"
     ]
    }
   ],
   "source": [
    "lr_clf = LogisticRegression()\n",
    "params = {\n",
    "    'C': [1, 3, 3.5, 5]\n",
    "}\n",
    "\n",
    "grid_cv = GridSearchCV(lr_clf, param_grid=params, cv=3, scoring='accuracy', verbose=1) #n_jobs=-1\n",
    "grid_cv.fit(X_train_tvect, y_train)\n",
    "print(grid_cv.best_params_, grid_cv.best_score_)\n",
    "#2분소요\n",
    "# 결과값: Fitting 3 folds for each of 4 candidates, totalling 12 fits\n",
    "# [Parallel(n_jobs=1)]: Using backend SequentialBackend with 1 concurrent workers.\n",
    "# [Parallel(n_jobs=1)]: Done  12 out of  12 | elapsed:   50.7s finished\n",
    "# {'C': 3.5} 0.8550664993037979"
   ]
  },
  {
   "cell_type": "code",
   "execution_count": 39,
   "metadata": {},
   "outputs": [
    {
     "output_type": "stream",
     "name": "stdout",
     "text": [
      "TfidfVectorizer + Logistic Regression 정확도: 0.8585\n"
     ]
    }
   ],
   "source": [
    "pred = grid_cv.predict(X_test_tvect)\n",
    "acc = accuracy_score(y_test, pred)\n",
    "print(f'TfidfVectorizer + Logistic Regression 정확도: {acc:.4f}')\n",
    "#결과값 0.8585"
   ]
  },
  {
   "cell_type": "code",
   "execution_count": null,
   "metadata": {},
   "outputs": [],
   "source": []
  }
 ]
}