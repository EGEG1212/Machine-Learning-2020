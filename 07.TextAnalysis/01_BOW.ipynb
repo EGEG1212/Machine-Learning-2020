{
 "cells": [
  {
   "cell_type": "markdown",
   "metadata": {},
   "source": [
    "## 텍스트 분석 - BOW(Bag of Words)"
   ]
  },
  {
   "cell_type": "markdown",
   "metadata": {},
   "source": [
    "## 1. CountVectorizer (https://wikidocs.net/22650)"
   ]
  },
  {
   "cell_type": "code",
   "execution_count": 3,
   "metadata": {},
   "outputs": [],
   "source": [
    "from sklearn.feature_extraction.text import CountVectorizer\n",
    "corpus = ['you know I want your love. because I love you.']"
   ]
  },
  {
   "cell_type": "code",
   "execution_count": 5,
   "metadata": {},
   "outputs": [
    {
     "data": {
      "text/plain": [
       "array([[1, 1, 2, 1, 2, 1]], dtype=int64)"
      ]
     },
     "execution_count": 5,
     "metadata": {},
     "output_type": "execute_result"
    }
   ],
   "source": [
    "count_vect = CountVectorizer()\n",
    "count_vect.fit(corpus)\n",
    "output = count_vect.transform(corpus)\n",
    "output.toarray() # 코퍼스로부터 각 단어의 빈도 수를 기록한다\n",
    "#결과값: array([[1, 1, 2, 1, 2, 1]], dtype=int64)"
   ]
  },
  {
   "cell_type": "code",
   "execution_count": 6,
   "metadata": {},
   "outputs": [
    {
     "data": {
      "text/plain": [
       "{'you': 4, 'know': 1, 'want': 3, 'your': 5, 'love': 2, 'because': 0}"
      ]
     },
     "execution_count": 6,
     "metadata": {},
     "output_type": "execute_result"
    }
   ],
   "source": [
    "count_vect.vocabulary_ #아웃풋_ 빈도수\n",
    "#결과값: {'you': 4, 'know': 1, 'want': 3, 'your': 5, 'love': 2, 'because': 0}"
   ]
  },
  {
   "cell_type": "markdown",
   "metadata": {},
   "source": [
    "### 불용어를 제거한 BoW"
   ]
  },
  {
   "cell_type": "code",
   "execution_count": 7,
   "metadata": {},
   "outputs": [
    {
     "name": "stdout",
     "output_type": "stream",
     "text": [
      "[[1 1 1 1 1]]\n",
      "{'family': 1, 'important': 2, 'thing': 4, 'it': 3, 'everything': 0}\n"
     ]
    }
   ],
   "source": [
    "#자체 제거\n",
    "text=[\"Family is not an important thing. It's everything.\"]\n",
    "cvect = CountVectorizer(stop_words=[\"the\", \"a\", \"an\", \"is\", \"not\"])\n",
    "print(cvect.fit_transform(text).toarray())\n",
    "print(cvect.vocabulary_)"
   ]
  },
  {
   "cell_type": "code",
   "execution_count": 9,
   "metadata": {},
   "outputs": [
    {
     "name": "stdout",
     "output_type": "stream",
     "text": [
      "[[1 1 1]]\n",
      "{'family': 0, 'important': 1, 'thing': 2}\n"
     ]
    }
   ],
   "source": [
    "#Scikit-Learn에서 제공하는 불용어 사용\n",
    "text=[\"Family is not an important thing. It's everything.\"]\n",
    "cvect = CountVectorizer(stop_words='english') #'it', 'everything' 불용어처리됨\n",
    "#stop_words외에도 다른파라미터 max_df, min_df, max_features, stop_words. n_gram_range, analyzer, token_pattern, tokenizer\n",
    "print(cvect.fit_transform(text).toarray())\n",
    "print(cvect.vocabulary_)"
   ]
  },
  {
   "cell_type": "code",
   "execution_count": 11,
   "metadata": {},
   "outputs": [
    {
     "data": {
      "text/plain": [
       "179"
      ]
     },
     "execution_count": 11,
     "metadata": {},
     "output_type": "execute_result"
    }
   ],
   "source": [
    "# NLTK에서 제공하는 불용어 사용\n",
    "from nltk.corpus import stopwords\n",
    "sw = stopwords.words('english')\n",
    "len(sw)"
   ]
  },
  {
   "cell_type": "code",
   "execution_count": 13,
   "metadata": {},
   "outputs": [
    {
     "name": "stdout",
     "output_type": "stream",
     "text": [
      "[[1 1 1 1]]\n",
      "{'family': 1, 'important': 2, 'thing': 3, 'everything': 0}\n"
     ]
    }
   ],
   "source": [
    "text=[\"Family is not an important thing. It's everything.\"]\n",
    "cvect = CountVectorizer(stop_words=sw)\n",
    "print(cvect.fit_transform(text).toarray())\n",
    "print(cvect.vocabulary_)"
   ]
  },
  {
   "cell_type": "code",
   "execution_count": 16,
   "metadata": {},
   "outputs": [],
   "source": [
    "#인덱스를 다시 단어로 변환하는 함수\n",
    "def get_word(index, voca):\n",
    "    for key, value in voca.items():\n",
    "        if value == index:\n",
    "            return key"
   ]
  },
  {
   "cell_type": "code",
   "execution_count": 17,
   "metadata": {},
   "outputs": [
    {
     "data": {
      "text/plain": [
       "'thing'"
      ]
     },
     "execution_count": 17,
     "metadata": {},
     "output_type": "execute_result"
    }
   ],
   "source": [
    "get_word(3, cvect.vocabulary_)"
   ]
  },
  {
   "cell_type": "markdown",
   "metadata": {},
   "source": [
    "### N-gram (Bow의 단점을 극복한) 다음단어예측가능,정확도는 높아지지만.. 학습속도떨어짐;"
   ]
  },
  {
   "cell_type": "code",
   "execution_count": 18,
   "metadata": {},
   "outputs": [
    {
     "name": "stdout",
     "output_type": "stream",
     "text": [
      "[[1 1 1 2 1 1 1]]\n",
      "{'machine': 5, 'learning': 4, 'is': 3, 'fun': 2, 'and': 0, 'not': 6, 'boring': 1}\n"
     ]
    }
   ],
   "source": [
    "text=[\"Machine learning is fun and is not boring\"]\n",
    "cvect = CountVectorizer()\n",
    "print(cvect.fit_transform(text).toarray())\n",
    "print(cvect.vocabulary_)"
   ]
  },
  {
   "cell_type": "code",
   "execution_count": 19,
   "metadata": {},
   "outputs": [
    {
     "name": "stdout",
     "output_type": "stream",
     "text": [
      "[[1 1 1 1 1 2 1 1 1 1 1 1 1 1]]\n",
      "{'machine': 10, 'learning': 8, 'is': 5, 'fun': 3, 'and': 0, 'not': 12, 'boring': 2, 'machine learning': 11, 'learning is': 9, 'is fun': 6, 'fun and': 4, 'and is': 1, 'is not': 7, 'not boring': 13}\n"
     ]
    }
   ],
   "source": [
    "cvect = CountVectorizer(ngram_range=(1,2))\n",
    "print(cvect.fit_transform(text).toarray())\n",
    "print(cvect.vocabulary_)"
   ]
  },
  {
   "cell_type": "code",
   "execution_count": 20,
   "metadata": {},
   "outputs": [
    {
     "name": "stdout",
     "output_type": "stream",
     "text": [
      "[[1 1 1 1 1 1 1 2 1 1 1 1 1 1 1 1 1 1 1 1]]\n",
      "{'machine': 15, 'learning': 12, 'is': 7, 'fun': 4, 'and': 0, 'not': 18, 'boring': 3, 'machine learning': 16, 'learning is': 13, 'is fun': 8, 'fun and': 5, 'and is': 1, 'is not': 10, 'not boring': 19, 'machine learning is': 17, 'learning is fun': 14, 'is fun and': 9, 'fun and is': 6, 'and is not': 2, 'is not boring': 11}\n"
     ]
    }
   ],
   "source": [
    "cvect = CountVectorizer(ngram_range=(1,3))\n",
    "print(cvect.fit_transform(text).toarray()) #train, test 나눌경우엔 fit_transform 쓰면 안됨!!!!각자다른인덱스를가지기때문에ㅠ\n",
    "print(cvect.vocabulary_)"
   ]
  },
  {
   "cell_type": "code",
   "execution_count": 21,
   "metadata": {},
   "outputs": [
    {
     "name": "stdout",
     "output_type": "stream",
     "text": [
      "[[1 1 1 1 1 1 1]]\n",
      "{'machine': 5, 'learning': 3, 'fun': 1, 'boring': 0, 'machine learning': 6, 'learning fun': 4, 'fun boring': 2}\n"
     ]
    }
   ],
   "source": [
    "#ngram에 불용어제거까지\n",
    "cvect = CountVectorizer(ngram_range=(1,2), stop_words='english') \n",
    "print(cvect.fit_transform(text).toarray())\n",
    "print(cvect.vocabulary_)"
   ]
  },
  {
   "cell_type": "markdown",
   "metadata": {},
   "source": [
    "### CountVectorizer의 파라미터"
   ]
  },
  {
   "cell_type": "code",
   "execution_count": 22,
   "metadata": {},
   "outputs": [
    {
     "data": {
      "text/plain": [
       "{'analyzer': 'word',\n",
       " 'binary': False,\n",
       " 'decode_error': 'strict',\n",
       " 'dtype': numpy.int64,\n",
       " 'encoding': 'utf-8',\n",
       " 'input': 'content',\n",
       " 'lowercase': True,\n",
       " 'max_df': 1.0,\n",
       " 'max_features': None,\n",
       " 'min_df': 1,\n",
       " 'ngram_range': (1, 2),\n",
       " 'preprocessor': None,\n",
       " 'stop_words': 'english',\n",
       " 'strip_accents': None,\n",
       " 'token_pattern': '(?u)\\\\b\\\\w\\\\w+\\\\b',\n",
       " 'tokenizer': None,\n",
       " 'vocabulary': None}"
      ]
     },
     "execution_count": 22,
     "metadata": {},
     "output_type": "execute_result"
    }
   ],
   "source": [
    "cvect.get_params()"
   ]
  },
  {
   "cell_type": "markdown",
   "metadata": {},
   "source": [
    "## 2. TF-IDF Vectorizer (https://wikidocs.net/31698)\n",
    "단어의 가중치반영. 단어의 빈도수가 높으면 중요한단어 이나,  \n",
    "전체문서에 너무 많이 나오면 관습적이구나.. 라고; "
   ]
  },
  {
   "cell_type": "code",
   "execution_count": 23,
   "metadata": {},
   "outputs": [
    {
     "name": "stdout",
     "output_type": "stream",
     "text": [
      "[[0 1 0 1 0 1 0 1 1]\n",
      " [0 0 1 0 0 0 0 1 0]\n",
      " [1 0 0 0 1 0 1 0 0]]\n",
      "{'you': 7, 'know': 1, 'want': 5, 'your': 8, 'love': 3, 'like': 2, 'what': 6, 'should': 4, 'do': 0}\n"
     ]
    }
   ],
   "source": [
    "from sklearn.feature_extraction.text import TfidfVectorizer\n",
    "corpus = [\n",
    "    'you know I want your love',\n",
    "    'I like you',\n",
    "    'what should I do '   \n",
    "]\n",
    "count_vect = CountVectorizer()\n",
    "print(count_vect.fit_transform(corpus).toarray())\n",
    "print(count_vect.vocabulary_)"
   ]
  },
  {
   "cell_type": "code",
   "execution_count": 24,
   "metadata": {},
   "outputs": [
    {
     "name": "stdout",
     "output_type": "stream",
     "text": [
      "[[0.         0.46735098 0.         0.46735098 0.         0.46735098\n",
      "  0.         0.35543247 0.46735098]\n",
      " [0.         0.         0.79596054 0.         0.         0.\n",
      "  0.         0.60534851 0.        ]\n",
      " [0.57735027 0.         0.         0.         0.57735027 0.\n",
      "  0.57735027 0.         0.        ]]\n",
      "{'you': 7, 'know': 1, 'want': 5, 'your': 8, 'love': 3, 'like': 2, 'what': 6, 'should': 4, 'do': 0}\n"
     ]
    }
   ],
   "source": [
    "tfidf_vect = TfidfVectorizer()\n",
    "print(tfidf_vect.fit_transform(corpus).toarray())\n",
    "print(tfidf_vect.vocabulary_)\n",
    "#사용법은 똑같은데, 결과값이!? 반복되는 단어 you의 확률을 낮춰줌"
   ]
  },
  {
   "cell_type": "code",
   "execution_count": 25,
   "metadata": {},
   "outputs": [
    {
     "data": {
      "text/plain": [
       "{'analyzer': 'word',\n",
       " 'binary': False,\n",
       " 'decode_error': 'strict',\n",
       " 'dtype': numpy.float64,\n",
       " 'encoding': 'utf-8',\n",
       " 'input': 'content',\n",
       " 'lowercase': True,\n",
       " 'max_df': 1.0,\n",
       " 'max_features': None,\n",
       " 'min_df': 1,\n",
       " 'ngram_range': (1, 1),\n",
       " 'norm': 'l2',\n",
       " 'preprocessor': None,\n",
       " 'smooth_idf': True,\n",
       " 'stop_words': None,\n",
       " 'strip_accents': None,\n",
       " 'sublinear_tf': False,\n",
       " 'token_pattern': '(?u)\\\\b\\\\w\\\\w+\\\\b',\n",
       " 'tokenizer': None,\n",
       " 'use_idf': True,\n",
       " 'vocabulary': None}"
      ]
     },
     "execution_count": 25,
     "metadata": {},
     "output_type": "execute_result"
    }
   ],
   "source": [
    "tfidf_vect.get_params() #파라미터확인해보면 ngram적용가능하다"
   ]
  },
  {
   "cell_type": "code",
   "execution_count": null,
   "metadata": {},
   "outputs": [],
   "source": []
  }
 ],
 "metadata": {
  "kernelspec": {
   "display_name": "Python 3",
   "language": "python",
   "name": "python3"
  },
  "language_info": {
   "codemirror_mode": {
    "name": "ipython",
    "version": 3
   },
   "file_extension": ".py",
   "mimetype": "text/x-python",
   "name": "python",
   "nbconvert_exporter": "python",
   "pygments_lexer": "ipython3",
   "version": "3.8.5"
  }
 },
 "nbformat": 4,
 "nbformat_minor": 2
}
