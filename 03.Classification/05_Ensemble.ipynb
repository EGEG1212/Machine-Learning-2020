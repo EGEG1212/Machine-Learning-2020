{
 "metadata": {
  "language_info": {
   "codemirror_mode": {
    "name": "ipython",
    "version": 3
   },
   "file_extension": ".py",
   "mimetype": "text/x-python",
   "name": "python",
   "nbconvert_exporter": "python",
   "pygments_lexer": "ipython3",
   "version": "3.8.5-final"
  },
  "orig_nbformat": 2,
  "kernelspec": {
   "name": "python3",
   "display_name": "Python 3",
   "language": "python"
  }
 },
 "nbformat": 4,
 "nbformat_minor": 2,
 "cells": [
  {
   "source": [
    "# 앙상블 학습"
   ],
   "cell_type": "markdown",
   "metadata": {}
  },
  {
   "cell_type": "code",
   "execution_count": 1,
   "metadata": {},
   "outputs": [],
   "source": [
    "from sklearn.datasets import load_breast_cancer\n",
    "cancer = load_breast_cancer()"
   ]
  },
  {
   "cell_type": "code",
   "execution_count": 2,
   "metadata": {},
   "outputs": [],
   "source": [
    "from sklearn.preprocessing import MinMaxScaler\n",
    "scaler = MinMaxScaler()\n",
    "cancer_scaled = scaler.fit_transform(cancer.data)"
   ]
  },
  {
   "cell_type": "code",
   "execution_count": 3,
   "metadata": {},
   "outputs": [],
   "source": [
    "#데이터분리\n",
    "from sklearn.model_selection import train_test_split\n",
    "X_train, X_test, y_train, y_test = train_test_split(\n",
    "    cancer_scaled, cancer.target, test_size=0.2, random_state=156\n",
    "    )"
   ]
  },
  {
   "source": [
    "### 앙상블 학습을 위한 분류기\n",
    "- 로지스틱회귀\n",
    "- 서포트벡터머신\n",
    "- K최근접이웃"
   ],
   "cell_type": "markdown",
   "metadata": {}
  },
  {
   "cell_type": "code",
   "execution_count": 5,
   "metadata": {},
   "outputs": [],
   "source": [
    "from sklearn.linear_model import LogisticRegression\n",
    "from sklearn.svm import SVC\n",
    "from sklearn.neighbors import KNeighborsClassifier\n",
    "\n",
    "lr = LogisticRegression()\n",
    "svc = SVC()\n",
    "knn = KNeighborsClassifier()"
   ]
  },
  {
   "cell_type": "code",
   "execution_count": 8,
   "metadata": {},
   "outputs": [],
   "source": [
    "#앙상블 학습을 위한 보팅분류기\n",
    "#앙상블을위해서는 통합해서 처리해야할 녀석이 필요! 보팅분류기를만들자\n",
    "from sklearn.ensemble import VotingClassifier\n",
    "#일반적으로만드는것과 좀 차이있음\n",
    "vo_clf = VotingClassifier(\n",
    "    estimators=[('LR', lr), ('SVC', svc), ('KNN', knn)], voting='hard' #0101로나오는 hard (svc모델때문에)\n",
    ")"
   ]
  },
  {
   "cell_type": "code",
   "execution_count": 9,
   "metadata": {},
   "outputs": [],
   "source": [
    "vo_clf.fit(X_train, y_train)\n",
    "pred = vo_clf.predict(X_test)"
   ]
  },
  {
   "cell_type": "code",
   "execution_count": 10,
   "metadata": {},
   "outputs": [
    {
     "output_type": "execute_result",
     "data": {
      "text/plain": [
       "0.9649122807017544"
      ]
     },
     "metadata": {},
     "execution_count": 10
    }
   ],
   "source": [
    "from sklearn.metrics import accuracy_score\n",
    "accuracy_score(y_test, pred)\n",
    "#모델3개 하드보팅했을경우, 정확도 0.9649"
   ]
  },
  {
   "source": [
    "### 개별 모델의 학습/예측/평가"
   ],
   "cell_type": "markdown",
   "metadata": {}
  },
  {
   "cell_type": "code",
   "execution_count": 11,
   "metadata": {},
   "outputs": [
    {
     "output_type": "stream",
     "name": "stdout",
     "text": [
      "LogisticRegression 정확도: 0.9561\nSVC 정확도: 0.9649\nKNeighborsClassifier 정확도: 0.9561\n"
     ]
    }
   ],
   "source": [
    "classifiers = [lr, svc, knn]\n",
    "for classifier in classifiers:\n",
    "    classifier.fit(X_train, y_train)\n",
    "    pred = classifier.predict(X_test)\n",
    "    acc = accuracy_score(y_test, pred)\n",
    "    class_name = classifier.__class__.__name__ #classifier속성을 이용해서 클래스네임을 얻을수있다\n",
    "    print(f'{class_name} 정확도: {acc:.4f}')\n",
    "#SVC 정확도 0.9649로 가장 높다"
   ]
  },
  {
   "source": [
    "### 로지스틱회귀, K-NN을 이용한 소프트보팅\n",
    "### 위와다르게 svc를 빼고 voting='soft'로 해보자"
   ],
   "cell_type": "markdown",
   "metadata": {}
  },
  {
   "cell_type": "code",
   "execution_count": 13,
   "metadata": {},
   "outputs": [
    {
     "output_type": "execute_result",
     "data": {
      "text/plain": [
       "0.9649122807017544"
      ]
     },
     "metadata": {},
     "execution_count": 13
    }
   ],
   "source": [
    "vo_clf = VotingClassifier(\n",
    "    estimators=[('LR', lr), ('KNN', knn)], voting='soft'\n",
    ")\n",
    "vo_clf.fit(X_train, y_train)\n",
    "pred = vo_clf.predict(X_test)\n",
    "accuracy_score(y_test, pred)"
   ]
  },
  {
   "cell_type": "code",
   "execution_count": 14,
   "metadata": {},
   "outputs": [
    {
     "output_type": "stream",
     "name": "stdout",
     "text": [
      "LogisticRegression 정확도: 0.9561\nKNeighborsClassifier 정확도: 0.9561\n"
     ]
    }
   ],
   "source": [
    "classifiers = [lr, knn]\n",
    "for classifier in classifiers:\n",
    "    classifier.fit(X_train, y_train)\n",
    "    pred = classifier.predict(X_test)\n",
    "    acc = accuracy_score(y_test, pred)\n",
    "    class_name = classifier.__class__.__name__ #classifier속성을 이용해서 클래스네임을 얻을수있다\n",
    "    print(f'{class_name} 정확도: {acc:.4f}')"
   ]
  },
  {
   "cell_type": "code",
   "execution_count": null,
   "metadata": {},
   "outputs": [],
   "source": []
  }
 ]
}