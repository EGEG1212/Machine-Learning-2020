{
 "metadata": {
  "language_info": {
   "codemirror_mode": {
    "name": "ipython",
    "version": 3
   },
   "file_extension": ".py",
   "mimetype": "text/x-python",
   "name": "python",
   "nbconvert_exporter": "python",
   "pygments_lexer": "ipython3",
   "version": "3.8.5-final"
  },
  "orig_nbformat": 2,
  "kernelspec": {
   "name": "python3",
   "display_name": "Python 3",
   "language": "python"
  }
 },
 "nbformat": 4,
 "nbformat_minor": 2,
 "cells": [
  {
   "source": [
    "# 네이버 파파고 번역기 (한영)"
   ],
   "cell_type": "markdown",
   "metadata": {}
  },
  {
   "source": [
    "- https://github.com/navercloudplatform/ai-python-sample 에 있는 소스코드 복붙"
   ],
   "cell_type": "markdown",
   "metadata": {}
  },
  {
   "cell_type": "code",
   "execution_count": 1,
   "metadata": {},
   "outputs": [],
   "source": [
    "import json\n",
    "with open('keys/papago_key.json') as nkey:\n",
    "    json_str = nkey.read(100)\n",
    "json_obj = json.loads(json_str)\n",
    "client_id = list(json_obj.keys())[0] #jsom파일로부터 꺼내는작업\n",
    "client_secret = json_obj[client_id]"
   ]
  },
  {
   "cell_type": "code",
   "execution_count": 2,
   "metadata": {},
   "outputs": [
    {
     "output_type": "execute_result",
     "data": {
      "text/plain": [
       "'id'"
      ]
     },
     "metadata": {},
     "execution_count": 2
    }
   ],
   "source": [
    "#키값 id를 꺼내는 방법 a.keys()하면..안나온다.....ㅋ list로 감싸야함\n",
    "a = {'id': 'secret'}\n",
    "id = list(a.keys())[0]\n",
    "id"
   ]
  },
  {
   "cell_type": "code",
   "execution_count": 3,
   "metadata": {},
   "outputs": [
    {
     "output_type": "execute_result",
     "data": {
      "text/plain": [
       "'secret'"
      ]
     },
     "metadata": {},
     "execution_count": 3
    }
   ],
   "source": [
    "#밸류 secret을 꺼내는건 간단하다\n",
    "a[id]"
   ]
  },
  {
   "cell_type": "code",
   "execution_count": 4,
   "metadata": {},
   "outputs": [],
   "source": [
    "url = \"https://naveropenapi.apigw.ntruss.com/nmt/v1/translation\"\n",
    "\n",
    "text = \"\"\"네이버 클라우드 플랫폼에서는 Clova, papago 등 네이버의 다양한 인공지능 서비스를 API 형태로 제공합니다. 고객은 네이버의 인공지능 서비스를 활용하여, \n",
    "최신 기술 기반의 AI 서비스를 구축하고 안정적으로 운영할 수 있습니다..\"\"\""
   ]
  },
  {
   "source": [
    "- ko : 한국어\n",
    "- en : 영어\n",
    "- zh-CN : 중국어 간체 중국\n",
    "- zh-TW : 중국어 번체 타이완\n",
    "- es: 스페인어\n",
    "- fr: 프랑스어\n",
    "- vi: 베트남어\n",
    "- th: 태국어\n",
    "- id: 인도네시아어"
   ],
   "cell_type": "markdown",
   "metadata": {}
  },
  {
   "cell_type": "code",
   "execution_count": 5,
   "metadata": {},
   "outputs": [],
   "source": [
    "val = {\n",
    "    \"source\": 'ko',\n",
    "    \"target\": 'en',\n",
    "    \"text\": text #옵션은 이 뒤에 붙는다.\n",
    "}"
   ]
  },
  {
   "cell_type": "code",
   "execution_count": 6,
   "metadata": {},
   "outputs": [],
   "source": [
    "headers = {\n",
    "    \"X-NCP-APIGW-API-KEY-ID\": client_id,\n",
    "    \"X-NCP-APIGW-API-KEY\": client_secret\n",
    "}"
   ]
  },
  {
   "cell_type": "code",
   "execution_count": 7,
   "metadata": {},
   "outputs": [
    {
     "output_type": "execute_result",
     "data": {
      "text/plain": [
       "200"
      ]
     },
     "metadata": {},
     "execution_count": 7
    }
   ],
   "source": [
    "import requests  #naver method POST로 감\n",
    "response = requests.post(url,  data=val, headers=headers)\n",
    "rescode = response.status_code\n",
    "rescode #200나오면 정상"
   ]
  },
  {
   "cell_type": "code",
   "execution_count": 8,
   "metadata": {},
   "outputs": [
    {
     "output_type": "stream",
     "name": "stdout",
     "text": [
      "{\"message\":{\"@type\":\"response\",\"@service\":\"naverservice.nmt.proxy\",\"@version\":\"1.0.0\",\"result\":{\"srcLangType\":\"ko\",\"tarLangType\":\"en\",\"translatedText\":\"Naver's cloud platform provides various artificial intelligence services such as Clova and papago in API form. Customers use Naver's artificial intelligence service. \\nYou can build and operate AI services based on the latest technology.\"}}}\n"
     ]
    }
   ],
   "source": [
    "if rescode == 200:\n",
    "    print(response.text)\n",
    "else:\n",
    "    print(\"Error : \" + response.text)\n",
    "# 결과값 {\"message\":\n",
    "# {\"@type\":\"response\",\"@service\":\"naverservice.nmt.proxy\",\"@version\":\"1.0.0\",\n",
    "# \"result\":{\"srcLangType\":\"ko\",\"tarLangType\":\"en\",\"translatedText\":\"Naver's cloud platform provides various artificial intelligence services such as Clova and papago in API form. Customers use Naver's artificial intelligence service. \\nYou can build and operate AI services based on the latest technology.\"}}}"
   ]
  },
  {
   "cell_type": "code",
   "execution_count": 9,
   "metadata": {},
   "outputs": [
    {
     "output_type": "execute_result",
     "data": {
      "text/plain": [
       "{'message': {'@type': 'response',\n",
       "  '@service': 'naverservice.nmt.proxy',\n",
       "  '@version': '1.0.0',\n",
       "  'result': {'srcLangType': 'ko',\n",
       "   'tarLangType': 'en',\n",
       "   'translatedText': \"Naver's cloud platform provides various artificial intelligence services such as Clova and papago in API form. Customers use Naver's artificial intelligence service. \\nYou can build and operate AI services based on the latest technology.\"}}}"
      ]
     },
     "metadata": {},
     "execution_count": 9
    }
   ],
   "source": [
    "# 방법1 (추천)\n",
    "result = response.json()\n",
    "result\n",
    "# 결과값 {'message': {'@type': 'response',\n",
    "#   '@service': 'naverservice.nmt.proxy',\n",
    "#   '@version': '1.0.0',\n",
    "#   'result': {'srcLangType': 'ko',\n",
    "#    'tarLangType': 'en',\n",
    "#    'translatedText': \"Naver's cloud platform provides various artificial intelligence services such as Clova and papago in API form. Customers use Naver's artificial intelligence service. \\nYou can build and operate AI services based on the latest technology.\"}}}"
   ]
  },
  {
   "cell_type": "code",
   "execution_count": 10,
   "metadata": {},
   "outputs": [
    {
     "output_type": "execute_result",
     "data": {
      "text/plain": [
       "{'message': {'@type': 'response',\n",
       "  '@service': 'naverservice.nmt.proxy',\n",
       "  '@version': '1.0.0',\n",
       "  'result': {'srcLangType': 'ko',\n",
       "   'tarLangType': 'en',\n",
       "   'translatedText': \"Naver's cloud platform provides various artificial intelligence services such as Clova and papago in API form. Customers use Naver's artificial intelligence service. \\nYou can build and operate AI services based on the latest technology.\"}}}"
      ]
     },
     "metadata": {},
     "execution_count": 10
    }
   ],
   "source": [
    "# 방법2\n",
    "result = json.loads(response.text)\n",
    "result\n",
    "#결과값 {'message': {'@type': 'response',\n",
    "#   '@service': 'naverservice.nmt.proxy',\n",
    "#   '@version': '1.0.0',\n",
    "#   'result': {'srcLangType': 'ko',\n",
    "#    'tarLangType': 'en',\n",
    "#    'translatedText': \"Naver's cloud platform provides various artificial intelligence services such as Clova and papago in API form. Customers use Naver's artificial intelligence service. \\nYou can build and operate AI services based on the latest technology.\"}}}"
   ]
  },
  {
   "cell_type": "code",
   "execution_count": 11,
   "metadata": {},
   "outputs": [
    {
     "output_type": "execute_result",
     "data": {
      "text/plain": [
       "\"Naver's cloud platform provides various artificial intelligence services such as Clova and papago in API form. Customers use Naver's artificial intelligence service. \\nYou can build and operate AI services based on the latest technology.\""
      ]
     },
     "metadata": {},
     "execution_count": 11
    }
   ],
   "source": [
    "# 번역결과값만 쏙!!!!\n",
    "eng_text = result['message']['result']['translatedText']\n",
    "eng_text\n",
    "#결과값 \"Naver's cloud platform provides various artificial intelligence services such as Clova and papago in API form. Customers use Naver's artificial intelligence service. \\nYou can build and operate AI services based on the latest technology.\""
   ]
  },
  {
   "source": [
    "- \\[text입력] 네이버 클라우드 플랫폼에서는 Clova, papago 등 네이버의 다양한 인공지능 서비스를 API 형태로 제공합니다. \n",
    "\n",
    "- \\[번역결과] Naver's cloud platform provides various artificial intelligence services such as Clova and papago in API form.\n",
    "\n",
    "- \\[text입력] 고객은 네이버의 인공지능 서비스를 활용하여, \n",
    "최신 기술 기반의 AI 서비스를 구축하고 안정적으로 운영할 수 있습니다.\n",
    "- \\[번역결과] Customers use Naver's artificial intelligence service. You can build and operate AI services based on the latest technology."
   ],
   "cell_type": "markdown",
   "metadata": {}
  },
  {
   "source": [
    "## 영어 --> 한글 영한번역"
   ],
   "cell_type": "markdown",
   "metadata": {}
  },
  {
   "cell_type": "code",
   "execution_count": 12,
   "metadata": {},
   "outputs": [
    {
     "output_type": "execute_result",
     "data": {
      "text/plain": [
       "200"
      ]
     },
     "metadata": {},
     "execution_count": 12
    }
   ],
   "source": [
    "val = {\n",
    "    \"source\": 'en',\n",
    "    \"target\": 'ko',\n",
    "    \"text\": eng_text\n",
    "}\n",
    "\n",
    "response = requests.post(url,  data=val, headers=headers)\n",
    "rescode = response.status_code\n",
    "rescode #200나오면 정상"
   ]
  },
  {
   "cell_type": "code",
   "execution_count": 13,
   "metadata": {},
   "outputs": [
    {
     "output_type": "execute_result",
     "data": {
      "text/plain": [
       "'네이버의 클라우드 플랫폼은 클로바, 파파고 등 다양한 인공지능 서비스를 API 형태로 제공하고 있다. 고객들은 네이버의 인공지능 서비스를 이용한다. \\n최신 기술을 기반으로 AI 서비스를 구축하고 운영할 수 있습니다.'"
      ]
     },
     "metadata": {},
     "execution_count": 13
    }
   ],
   "source": [
    "result = response.json() #방법1로\n",
    "kor_text = result['message']['result']['translatedText']\n",
    "kor_text\n",
    "#결과값 '네이버의 클라우드 플랫폼은 클로바, 파파고 등 다양한 인공지능 서비스를 API 형태로 제공하고 있다. 고객들은 네이버의 인공지능 서비스를 이용한다. \\n최신 기술을 기반으로 AI 서비스를 구축하고 운영할 수 있습니다.'"
   ]
  },
  {
   "source": [
    "## 한글 --> 중국어 번체"
   ],
   "cell_type": "markdown",
   "metadata": {}
  },
  {
   "cell_type": "code",
   "execution_count": 14,
   "metadata": {},
   "outputs": [
    {
     "output_type": "execute_result",
     "data": {
      "text/plain": [
       "200"
      ]
     },
     "metadata": {},
     "execution_count": 14
    }
   ],
   "source": [
    "val = {\n",
    "    \"source\": 'ko',\n",
    "    \"target\": 'zh-TW',\n",
    "    \"text\": text\n",
    "}\n",
    "\n",
    "response = requests.post(url,  data=val, headers=headers)\n",
    "rescode = response.status_code\n",
    "rescode #200나오면 정상"
   ]
  },
  {
   "cell_type": "code",
   "execution_count": 15,
   "metadata": {},
   "outputs": [
    {
     "output_type": "execute_result",
     "data": {
      "text/plain": [
       "'Naver雲平臺以API形式提供Clova、papago等Naver多種人工智能服務。 顧客使用Naver的人工智能服務， \\n可以構建以最新技術爲基礎的AI服務，並穩定運營..'"
      ]
     },
     "metadata": {},
     "execution_count": 15
    }
   ],
   "source": [
    "result = response.json() # json.loads(response.text)에서 방법1로 변경\n",
    "chn_text = result['message']['result']['translatedText']\n",
    "chn_text\n",
    "#결과값'Naver雲平臺以API形式提供Clova、papago等Naver多種人工智能服務。 顧客使用Naver的人工智能服務， \\n可以構建以最新技術爲基礎的AI服務，並穩定運營..'"
   ]
  },
  {
   "cell_type": "code",
   "execution_count": null,
   "metadata": {},
   "outputs": [],
   "source": []
  }
 ]
}