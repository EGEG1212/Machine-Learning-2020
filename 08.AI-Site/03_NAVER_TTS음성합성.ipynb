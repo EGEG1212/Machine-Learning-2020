{
 "metadata": {
  "language_info": {
   "codemirror_mode": {
    "name": "ipython",
    "version": 3
   },
   "file_extension": ".py",
   "mimetype": "text/x-python",
   "name": "python",
   "nbconvert_exporter": "python",
   "pygments_lexer": "ipython3",
   "version": "3.8.5-final"
  },
  "orig_nbformat": 2,
  "kernelspec": {
   "name": "python3",
   "display_name": "Python 3",
   "language": "python"
  }
 },
 "nbformat": 4,
 "nbformat_minor": 2,
 "cells": [
  {
   "source": [
    "# 네이버 음성 합성 clova_premium_voice\n",
    "- https://github.com/NaverCloudPlatform/ai-python-sample/blob/master/clova_premium_voice_sample.py"
   ],
   "cell_type": "markdown",
   "metadata": {}
  },
  {
   "cell_type": "code",
   "execution_count": 2,
   "metadata": {},
   "outputs": [],
   "source": [
    "import requests\n",
    "import json"
   ]
  },
  {
   "cell_type": "code",
   "execution_count": 3,
   "metadata": {},
   "outputs": [],
   "source": [
    "with open('keys/clova_key.json') as nkey:\n",
    "    json_str = nkey.read(100)\n",
    "json_obj = json.loads(json_str)\n",
    "client_id = list(json_obj.keys())[0]\n",
    "client_secret = json_obj[client_id]"
   ]
  },
  {
   "cell_type": "code",
   "execution_count": 1,
   "metadata": {},
   "outputs": [],
   "source": [
    "text = \"네이버 클라우드 플랫폼은 다양한 AI 서비스를 API를 통해 제공 하고 있습니다.\"\n",
    "\n",
    "speaker = \"nara\" #감정이있는여자목소리/ jinho mijin (옛날사람 프리미엄서비스하기전)\n",
    "speed = \"0\"\n",
    "pitch = \"0\"\n",
    "emotion = \"0\"\n",
    "format = \"mp3\""
   ]
  },
  {
   "cell_type": "code",
   "execution_count": 5,
   "metadata": {},
   "outputs": [],
   "source": [
    "url = \"https://naveropenapi.apigw.ntruss.com/tts-premium/v1/tts\" #깃과 다르게 여기 변경되었다!\n",
    "\n",
    "headers = {\n",
    "    \"X-NCP-APIGW-API-KEY-ID\": client_id,\n",
    "    \"X-NCP-APIGW-API-KEY\": client_secret,\n",
    "    \"Content-Type\": \"application/x-www-form-urlencoded\" #여기주의\n",
    "}"
   ]
  },
  {
   "cell_type": "code",
   "execution_count": 4,
   "metadata": {},
   "outputs": [],
   "source": [
    "val = {\n",
    "    \"speaker\": speaker,\n",
    "    \"speed\": speed,\n",
    "    \"text\": text\n",
    "}"
   ]
  },
  {
   "cell_type": "code",
   "execution_count": 6,
   "metadata": {},
   "outputs": [
    {
     "output_type": "execute_result",
     "data": {
      "text/plain": [
       "200"
      ]
     },
     "metadata": {},
     "execution_count": 6
    }
   ],
   "source": [
    "response = requests.post(url,  data=val, headers=headers)\n",
    "rescode = response.status_code\n",
    "rescode #결과값200"
   ]
  },
  {
   "cell_type": "code",
   "execution_count": 7,
   "metadata": {},
   "outputs": [
    {
     "output_type": "stream",
     "name": "stdout",
     "text": [
      "200\n"
     ]
    }
   ],
   "source": [
    "if(rescode == 200):\n",
    "    print(rescode)\n",
    "    with open('voice/cpv_sample.mp3', 'wb') as f:\n",
    "        f.write(response.content)\n",
    "else:\n",
    "    print(\"Error : \" + response.text)\n",
    "#결과값200"
   ]
  },
  {
   "source": [
    "# Option"
   ],
   "cell_type": "markdown",
   "metadata": {}
  },
  {
   "source": [
    "- speed를 5(느리게)"
   ],
   "cell_type": "markdown",
   "metadata": {}
  },
  {
   "cell_type": "code",
   "execution_count": 8,
   "metadata": {},
   "outputs": [],
   "source": [
    "speed = \"5\"\n",
    "pitch = \"0\"\n",
    "emotion = \"0\"\n",
    "\n",
    "val = {\n",
    "    \"speaker\": speaker,\n",
    "    \"speed\": speed,\n",
    "    \"text\": text\n",
    "}"
   ]
  },
  {
   "cell_type": "code",
   "execution_count": 9,
   "metadata": {},
   "outputs": [
    {
     "output_type": "stream",
     "name": "stdout",
     "text": [
      "200\n"
     ]
    }
   ],
   "source": [
    "response = requests.post(url,  data=val, headers=headers)\n",
    "rescode = response.status_code\n",
    "if(rescode == 200):\n",
    "    print(rescode)\n",
    "    with open('voice/cpv_sample_s5.mp3', 'wb') as f:\n",
    "        f.write(response.content)\n",
    "else:\n",
    "    print(\"Error : \" + response.text)"
   ]
  },
  {
   "source": [
    "- speed를 -5(빠르게)"
   ],
   "cell_type": "markdown",
   "metadata": {}
  },
  {
   "cell_type": "code",
   "execution_count": 10,
   "metadata": {},
   "outputs": [],
   "source": [
    "speed = \"-5\"\n",
    "pitch = \"0\"\n",
    "emotion = \"0\"\n",
    "\n",
    "val = {\n",
    "    \"speaker\": speaker,\n",
    "    \"speed\": speed,\n",
    "    \"text\": text\n",
    "}"
   ]
  },
  {
   "cell_type": "code",
   "execution_count": 11,
   "metadata": {},
   "outputs": [
    {
     "output_type": "stream",
     "name": "stdout",
     "text": [
      "200\n"
     ]
    }
   ],
   "source": [
    "response = requests.post(url,  data=val, headers=headers)\n",
    "rescode = response.status_code\n",
    "if(rescode == 200):\n",
    "    print(rescode)\n",
    "    with open('voice/cpv_sample_s-5.mp3', 'wb') as f:\n",
    "        f.write(response.content)\n",
    "else:\n",
    "    print(\"Error : \" + response.text)"
   ]
  },
  {
   "source": [
    "- 감정을 다르게 emotion = 1 (어두운감정), 2(밝은감정)"
   ],
   "cell_type": "markdown",
   "metadata": {}
  },
  {
   "cell_type": "code",
   "execution_count": 49,
   "metadata": {},
   "outputs": [
    {
     "output_type": "execute_result",
     "data": {
      "text/plain": [
       "200"
      ]
     },
     "metadata": {},
     "execution_count": 49
    }
   ],
   "source": [
    "speed = \"0\"\n",
    "pitch = \"0\"\n",
    "emotion = \"2\"\n",
    "\n",
    "val = {\n",
    "    \"speaker\": speaker,\n",
    "    \"speed\": speed,\n",
    "    \"text\": text,\n",
    "    \"emotion\": emotion\n",
    "}"
   ]
  },
  {
   "cell_type": "code",
   "execution_count": 50,
   "metadata": {},
   "outputs": [
    {
     "output_type": "stream",
     "name": "stdout",
     "text": [
      "200\n"
     ]
    }
   ],
   "source": [
    "response = requests.post(url,  data=val, headers=headers)\n",
    "rescode = response.status_code\n",
    "if(rescode == 200):\n",
    "    print(rescode)\n",
    "    with open('voice/cpv_sample_e2.mp3', 'wb') as f:\n",
    "        f.write(response.content)\n",
    "else:\n",
    "    print(\"Error : \" + response.text)"
   ]
  },
  {
   "cell_type": "code",
   "execution_count": null,
   "metadata": {},
   "outputs": [],
   "source": []
  },
  {
   "source": [
    "- pitch = 5 (0.8배낮은피치), -5(1.2배높은피치)"
   ],
   "cell_type": "markdown",
   "metadata": {}
  },
  {
   "cell_type": "code",
   "execution_count": 53,
   "metadata": {},
   "outputs": [
    {
     "output_type": "execute_result",
     "data": {
      "text/plain": [
       "200"
      ]
     },
     "metadata": {},
     "execution_count": 53
    }
   ],
   "source": [
    "speed = \"0\"\n",
    "pitch = \"-5\"\n",
    "emotion = \"0\"\n",
    "\n",
    "val = {\n",
    "    \"speaker\": speaker,\n",
    "    \"speed\": speed,\n",
    "    \"text\": text,\n",
    "    \"pitch\": pitch\n",
    "}"
   ]
  },
  {
   "cell_type": "code",
   "execution_count": 54,
   "metadata": {},
   "outputs": [
    {
     "output_type": "stream",
     "name": "stdout",
     "text": [
      "200\n"
     ]
    }
   ],
   "source": [
    "response = requests.post(url,  data=val, headers=headers)\n",
    "rescode = response.status_code\n",
    "if(rescode == 200):\n",
    "    print(rescode)\n",
    "    with open('voice/cpv_sample_p-5.mp3', 'wb') as f:\n",
    "        f.write(response.content)\n",
    "else:\n",
    "    print(\"Error : \" + response.text)"
   ]
  },
  {
   "source": [
    "## 기본 목소리(옛날사람) - 남자 진호쓰"
   ],
   "cell_type": "markdown",
   "metadata": {}
  },
  {
   "cell_type": "code",
   "execution_count": null,
   "metadata": {},
   "outputs": [],
   "source": [
    "text = \"네이버 클라우드 플랫폼은 다양한 AI 서비스를 API를 통해 제공 하고 있습니다.\"\n",
    "\n",
    "speaker = \"jinho\"\n",
    "speed = \"0\"\n",
    "val = {\n",
    "    \"speaker\": speaker,\n",
    "    \"speed\": speed,\n",
    "    \"text\": text\n",
    "}"
   ]
  },
  {
   "cell_type": "code",
   "execution_count": null,
   "metadata": {},
   "outputs": [],
   "source": [
    "\n",
    "response = requests.post(url, data=val, headers=headers)\n",
    "rescode = response.status_code\n",
    "if(rescode == 200):\n",
    "    with open('voice/cpv_sample_man.mp3', 'wb') as f:\n",
    "        f.write(response.content)\n",
    "else:\n",
    "    print(\"Error : \" + response.text)"
   ]
  },
  {
   "cell_type": "code",
   "execution_count": null,
   "metadata": {},
   "outputs": [],
   "source": [
    "#여자 미진\n",
    "text = \"네이버 클라우드 플랫폼은 다양한 AI 서비스를 API를 통해 제공 하고 있습니다.\"\n",
    "\n",
    "speaker = \"mijin\"\n",
    "speed = \"0\"\n",
    "val = {\n",
    "    \"speaker\": speaker,\n",
    "    \"speed\": speed,\n",
    "    \"text\": text\n",
    "}"
   ]
  },
  {
   "cell_type": "code",
   "execution_count": null,
   "metadata": {},
   "outputs": [],
   "source": [
    "\n",
    "response = requests.post(url, data=val, headers=headers)\n",
    "rescode = response.status_code\n",
    "if(rescode == 200):\n",
    "    with open('voice/cpv_sample_woman.mp3', 'wb') as f:\n",
    "        f.write(response.content)\n",
    "else:\n",
    "    print(\"Error : \" + response.text)"
   ]
  }
 ]
}