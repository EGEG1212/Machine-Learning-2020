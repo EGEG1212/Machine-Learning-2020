{
 "cells": [
  {
   "cell_type": "markdown",
   "metadata": {},
   "source": [
    "## 카카오 언어감지"
   ]
  },
  {
   "cell_type": "code",
   "execution_count": 1,
   "metadata": {},
   "outputs": [],
   "source": [
    "import requests\n",
    "from urllib.parse import quote"
   ]
  },
  {
   "cell_type": "code",
   "execution_count": 2,
   "metadata": {},
   "outputs": [],
   "source": [
    "with open('keys/kakaoaikey.txt') as kfile:\n",
    "    kai_key = kfile.read(100)"
   ]
  },
  {
   "cell_type": "code",
   "execution_count": 3,
   "metadata": {},
   "outputs": [],
   "source": [
    "text = '이 문서는 카카오 번역 API 사용 방법을 설명합니다.'\n",
    "eng_text = 'This document describes how to use the Kakao translation API.'"
   ]
  },
  {
   "cell_type": "code",
   "execution_count": 4,
   "metadata": {},
   "outputs": [
    {
     "data": {
      "text/plain": [
       "{'language_info': [{'code': 'kr', 'name': 'Korean', 'confidence': 1.0}]}"
      ]
     },
     "execution_count": 4,
     "metadata": {},
     "output_type": "execute_result"
    }
   ],
   "source": [
    "url = 'https://dapi.kakao.com/v3/translation/language/detect?query='+quote(text) #text를 quote인코딩해서넣고\n",
    "result = requests.get(url,\n",
    "            headers={\"Authorization\": \"KakaoAK \"+kai_key}).json() #결과를 json형태로 GET방식으로 받음\n",
    "result\n",
    "#결과값: {'language_info': [{'code': 'kr', 'name': 'Korean', 'confidence': 1.0}]}"
   ]
  },
  {
   "cell_type": "code",
   "execution_count": 5,
   "metadata": {},
   "outputs": [
    {
     "data": {
      "text/plain": [
       "'kr'"
      ]
     },
     "execution_count": 5,
     "metadata": {},
     "output_type": "execute_result"
    }
   ],
   "source": [
    "result['language_info'][0]['code']\n",
    "#결과값 'kr'"
   ]
  },
  {
   "cell_type": "code",
   "execution_count": 7,
   "metadata": {},
   "outputs": [
    {
     "data": {
      "text/plain": [
       "{'language_info': [{'code': 'en', 'name': 'English', 'confidence': 0.98866},\n",
       "  {'code': 'de', 'name': 'German', 'confidence': 0.01023},\n",
       "  {'code': 'fr', 'name': 'French', 'confidence': 0.00044}]}"
      ]
     },
     "execution_count": 7,
     "metadata": {},
     "output_type": "execute_result"
    }
   ],
   "source": [
    "#영어일경우, 퍼센트로나온다 영,독,프 ..뭐 그래도 첫번째니까 ㅋ 똑같이 뺌.\n",
    "url = 'https://dapi.kakao.com/v3/translation/language/detect?query='+quote(eng_text)\n",
    "result = requests.get(url,\n",
    "            headers={\"Authorization\": \"KakaoAK \"+kai_key}).json()\n",
    "result\n",
    "# {'language_info': [{'code': 'en', 'name': 'English', 'confidence': 0.98866},\n",
    "#   {'code': 'de', 'name': 'German', 'confidence': 0.01023},\n",
    "#   {'code': 'fr', 'name': 'French', 'confidence': 0.00044}]}"
   ]
  },
  {
   "cell_type": "code",
   "execution_count": 8,
   "metadata": {},
   "outputs": [
    {
     "data": {
      "text/plain": [
       "'en'"
      ]
     },
     "execution_count": 8,
     "metadata": {},
     "output_type": "execute_result"
    }
   ],
   "source": [
    "result['language_info'][0]['code']\n",
    "#결과값 'en'"
   ]
  },
  {
   "cell_type": "code",
   "execution_count": null,
   "metadata": {},
   "outputs": [],
   "source": []
  }
 ],
 "metadata": {
  "kernelspec": {
   "display_name": "Python 3",
   "language": "python",
   "name": "python3"
  },
  "language_info": {
   "codemirror_mode": {
    "name": "ipython",
    "version": 3
   },
   "file_extension": ".py",
   "mimetype": "text/x-python",
   "name": "python",
   "nbconvert_exporter": "python",
   "pygments_lexer": "ipython3",
   "version": "3.8.5"
  }
 },
 "nbformat": 4,
 "nbformat_minor": 4
}