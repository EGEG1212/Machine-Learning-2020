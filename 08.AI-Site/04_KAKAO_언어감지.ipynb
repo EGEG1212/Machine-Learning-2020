{
  "nbformat": 4,
  "nbformat_minor": 0,
  "metadata": {
    "kernelspec": {
      "display_name": "Python 3",
      "language": "python",
      "name": "python3"
    },
    "language_info": {
      "codemirror_mode": {
        "name": "ipython",
        "version": 3
      },
      "file_extension": ".py",
      "mimetype": "text/x-python",
      "name": "python",
      "nbconvert_exporter": "python",
      "pygments_lexer": "ipython3",
      "version": "3.8.5"
    },
    "colab": {
      "name": "04_KAKAO_언어감지.ipynb",
      "provenance": []
    }
  },
  "cells": [
    {
      "cell_type": "markdown",
      "metadata": {
        "id": "sWwpBHfQ-HzR"
      },
      "source": [
        "\r\n",
        "## 카카오 언어감지\r\n",
        "\r\n",
        "[![Open In Colab](https://colab.research.google.com/assets/colab-badge.svg)](https://colab.research.google.com/github/EGEG1212//Machine-Learning-2020/blob/main/08.AI-Site/04_KAKAO_언어감지.ipynb)"
      ]
    },
    {
      "cell_type": "code",
      "metadata": {
        "id": "dUk6lz9f-HzX"
      },
      "source": [
        "import requests\n",
        "from urllib.parse import quote"
      ],
      "execution_count": 1,
      "outputs": []
    },
    {
      "cell_type": "code",
      "metadata": {
        "id": "AkZ915r3-HzY",
        "outputId": "018a3007-ad1f-4632-ce1d-a4cca05443f1",
        "colab": {
          "base_uri": "https://localhost:8080/",
          "height": 187
        }
      },
      "source": [
        "with open('keys/kakaoaikey.txt') as kfile:\n",
        "    kai_key = kfile.read(100)"
      ],
      "execution_count": 2,
      "outputs": [
        {
          "output_type": "error",
          "ename": "FileNotFoundError",
          "evalue": "ignored",
          "traceback": [
            "\u001b[0;31m---------------------------------------------------------------------------\u001b[0m",
            "\u001b[0;31mFileNotFoundError\u001b[0m                         Traceback (most recent call last)",
            "\u001b[0;32m<ipython-input-2-5ec00c7d3749>\u001b[0m in \u001b[0;36m<module>\u001b[0;34m()\u001b[0m\n\u001b[0;32m----> 1\u001b[0;31m \u001b[0;32mwith\u001b[0m \u001b[0mopen\u001b[0m\u001b[0;34m(\u001b[0m\u001b[0;34m'keys/kakaoaikey.txt'\u001b[0m\u001b[0;34m)\u001b[0m \u001b[0;32mas\u001b[0m \u001b[0mkfile\u001b[0m\u001b[0;34m:\u001b[0m\u001b[0;34m\u001b[0m\u001b[0;34m\u001b[0m\u001b[0m\n\u001b[0m\u001b[1;32m      2\u001b[0m     \u001b[0mkai_key\u001b[0m \u001b[0;34m=\u001b[0m \u001b[0mkfile\u001b[0m\u001b[0;34m.\u001b[0m\u001b[0mread\u001b[0m\u001b[0;34m(\u001b[0m\u001b[0;36m100\u001b[0m\u001b[0;34m)\u001b[0m\u001b[0;34m\u001b[0m\u001b[0;34m\u001b[0m\u001b[0m\n",
            "\u001b[0;31mFileNotFoundError\u001b[0m: [Errno 2] No such file or directory: 'keys/kakaoaikey.txt'"
          ]
        }
      ]
    },
    {
      "cell_type": "code",
      "metadata": {
        "id": "CleizZyV-HzZ"
      },
      "source": [
        "text = '이 문서는 카카오 번역 API 사용 방법을 설명합니다.'\n",
        "eng_text = 'This document describes how to use the Kakao translation API.'"
      ],
      "execution_count": null,
      "outputs": []
    },
    {
      "cell_type": "code",
      "metadata": {
        "id": "l1e2T42J-HzZ",
        "outputId": "ffffd8cc-7eb0-4753-8922-3245d2e3913f"
      },
      "source": [
        "url = 'https://dapi.kakao.com/v3/translation/language/detect?query='+quote(text) #text를 quote인코딩해서넣고\n",
        "result = requests.get(url,\n",
        "            headers={\"Authorization\": \"KakaoAK \"+kai_key}).json() #결과를 json형태로 GET방식으로 받음\n",
        "result\n",
        "#결과값: {'language_info': [{'code': 'kr', 'name': 'Korean', 'confidence': 1.0}]}"
      ],
      "execution_count": null,
      "outputs": [
        {
          "output_type": "execute_result",
          "data": {
            "text/plain": [
              "{'language_info': [{'code': 'kr', 'name': 'Korean', 'confidence': 1.0}]}"
            ]
          },
          "metadata": {
            "tags": []
          },
          "execution_count": 4
        }
      ]
    },
    {
      "cell_type": "code",
      "metadata": {
        "id": "RwOJumUN-Hzb",
        "outputId": "d4d60fcc-6c12-4dca-c286-34f298dacc9d"
      },
      "source": [
        "result['language_info'][0]['code']\n",
        "#결과값 'kr'"
      ],
      "execution_count": null,
      "outputs": [
        {
          "output_type": "execute_result",
          "data": {
            "text/plain": [
              "'kr'"
            ]
          },
          "metadata": {
            "tags": []
          },
          "execution_count": 5
        }
      ]
    },
    {
      "cell_type": "code",
      "metadata": {
        "id": "WxNJKyCp-Hzb",
        "outputId": "a622c39f-5664-440e-f3ff-4edcfd2c1d52"
      },
      "source": [
        "#영어일경우, 퍼센트로나온다 영,독,프 ..뭐 그래도 첫번째니까 ㅋ 똑같이 뺌.\n",
        "url = 'https://dapi.kakao.com/v3/translation/language/detect?query='+quote(eng_text)\n",
        "result = requests.get(url,\n",
        "            headers={\"Authorization\": \"KakaoAK \"+kai_key}).json()\n",
        "result\n",
        "# {'language_info': [{'code': 'en', 'name': 'English', 'confidence': 0.98866},\n",
        "#   {'code': 'de', 'name': 'German', 'confidence': 0.01023},\n",
        "#   {'code': 'fr', 'name': 'French', 'confidence': 0.00044}]}"
      ],
      "execution_count": null,
      "outputs": [
        {
          "output_type": "execute_result",
          "data": {
            "text/plain": [
              "{'language_info': [{'code': 'en', 'name': 'English', 'confidence': 0.98866},\n",
              "  {'code': 'de', 'name': 'German', 'confidence': 0.01023},\n",
              "  {'code': 'fr', 'name': 'French', 'confidence': 0.00044}]}"
            ]
          },
          "metadata": {
            "tags": []
          },
          "execution_count": 7
        }
      ]
    },
    {
      "cell_type": "code",
      "metadata": {
        "id": "flt7p2nQ-Hzc",
        "outputId": "8644b3a7-acfc-479a-b77a-f4095ca66d88"
      },
      "source": [
        "result['language_info'][0]['code']\n",
        "#결과값 'en'"
      ],
      "execution_count": null,
      "outputs": [
        {
          "output_type": "execute_result",
          "data": {
            "text/plain": [
              "'en'"
            ]
          },
          "metadata": {
            "tags": []
          },
          "execution_count": 8
        }
      ]
    },
    {
      "cell_type": "code",
      "metadata": {
        "id": "94ceHxor-Hzc"
      },
      "source": [
        ""
      ],
      "execution_count": null,
      "outputs": []
    }
  ]
}