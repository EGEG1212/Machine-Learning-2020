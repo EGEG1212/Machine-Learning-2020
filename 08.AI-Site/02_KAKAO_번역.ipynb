{
 "metadata": {
  "language_info": {
   "codemirror_mode": {
    "name": "ipython",
    "version": 3
   },
   "file_extension": ".py",
   "mimetype": "text/x-python",
   "name": "python",
   "nbconvert_exporter": "python",
   "pygments_lexer": "ipython3",
   "version": "3.8.5-final"
  },
  "orig_nbformat": 2,
  "kernelspec": {
   "name": "python3",
   "display_name": "Python 3",
   "language": "python"
  }
 },
 "nbformat": 4,
 "nbformat_minor": 2,
 "cells": [
  {
   "source": [
    "# KAKAO 카카오번역기"
   ],
   "cell_type": "markdown",
   "metadata": {}
  },
  {
   "cell_type": "code",
   "execution_count": 3,
   "metadata": {},
   "outputs": [],
   "source": [
    "import requests\n",
    "from urllib.parse import quote #한글에 대해 quote적용해야함"
   ]
  },
  {
   "cell_type": "code",
   "execution_count": 4,
   "metadata": {},
   "outputs": [],
   "source": [
    "with open('keys/kakaoaikey.txt') as kfile:\n",
    "    kai_key = kfile.read(100)"
   ]
  },
  {
   "cell_type": "code",
   "execution_count": 5,
   "metadata": {},
   "outputs": [],
   "source": [
    "text = '이 문서는 카카오 번역API 사용 방법을 설명합니다.'"
   ]
  },
  {
   "cell_type": "code",
   "execution_count": 4,
   "metadata": {},
   "outputs": [],
   "source": [
    "# 개발가이드참조/ POST방식 네이버와 달리 카카오는 GET방식 https://developers.kakao.com/docs/latest/ko/translate/dev-guide\n",
    "# quote(text) 한글텍스트를 코트로 인코딩해준다\n",
    "url = 'https://dapi.kakao.com/v2/translation/translate?query='+quote(text)+'&src_lang=kr&target_lang=en'"
   ]
  },
  {
   "cell_type": "code",
   "execution_count": 5,
   "metadata": {},
   "outputs": [
    {
     "output_type": "execute_result",
     "data": {
      "text/plain": [
       "{'translated_text': [['This document describes how to use Kakao translation APIs.']]}"
      ]
     },
     "metadata": {},
     "execution_count": 5
    }
   ],
   "source": [
    "#requests에 url보내고(?) json으로받으면 result뙇......그래.뙇....ㅋ\n",
    "result = requests.get(url, headers={\"Authorization\": \"KakaoAK \"+kai_key}).json()\n",
    "result\n",
    "#결과값 {'translated_text': [['This document describes how to use Kakao translation APIs.']]}"
   ]
  },
  {
   "cell_type": "code",
   "execution_count": 6,
   "metadata": {},
   "outputs": [
    {
     "output_type": "execute_result",
     "data": {
      "text/plain": [
       "'This document describes how to use Kakao translation APIs.'"
      ]
     },
     "metadata": {},
     "execution_count": 6
    }
   ],
   "source": [
    "#번역결과알맹이만쏙!\n",
    "eng_text = result['translated_text'][0][0]\n",
    "eng_text\n",
    "#결과값 'This document describes how to use Kakao translation APIs.'"
   ]
  },
  {
   "cell_type": "code",
   "execution_count": 7,
   "metadata": {},
   "outputs": [],
   "source": [
    "# 위위위에서 url 넣는게 불편해서 만드신 함수+_+\n",
    "def generate_url(text, src, dst):\n",
    "    return f'https://dapi.kakao.com/v2/translation/translate?query={quote(text)}&src_lang={src}&target_lang={dst}'"
   ]
  },
  {
   "source": [
    "# 영어 -->한글"
   ],
   "cell_type": "markdown",
   "metadata": {}
  },
  {
   "cell_type": "code",
   "execution_count": 8,
   "metadata": {},
   "outputs": [
    {
     "output_type": "execute_result",
     "data": {
      "text/plain": [
       "{'translated_text': [['이 문서는 카카오 번역 API를 사용하는 방법에 대해 설명합니다.']]}"
      ]
     },
     "metadata": {},
     "execution_count": 8
    }
   ],
   "source": [
    "#함수활용\n",
    "result = requests.get(generate_url(eng_text, 'en', 'kr'), headers={\"Authorization\": \"KakaoAK \"+kai_key}).json()\n",
    "result\n",
    "#결과값: {'translated_text': [['이 문서는 카카오 번역 API를 사용하는 방법에 대해 설명합니다.']]}"
   ]
  },
  {
   "cell_type": "code",
   "execution_count": 9,
   "metadata": {},
   "outputs": [
    {
     "output_type": "execute_result",
     "data": {
      "text/plain": [
       "'이 문서는 카카오 번역 API를 사용하는 방법에 대해 설명합니다.'"
      ]
     },
     "metadata": {},
     "execution_count": 9
    }
   ],
   "source": [
    "kor_text = result['translated_text'][0][0]\n",
    "kor_text\n",
    "#결과값: '이 문서는 카카오 번역 API를 사용하는 방법에 대해 설명합니다.'"
   ]
  },
  {
   "source": [
    "# 한글 --> 일본어"
   ],
   "cell_type": "markdown",
   "metadata": {}
  },
  {
   "cell_type": "code",
   "execution_count": 10,
   "metadata": {},
   "outputs": [
    {
     "output_type": "execute_result",
     "data": {
      "text/plain": [
       "'本稿では,カカオ翻訳APIの使用法について述べた。'"
      ]
     },
     "metadata": {},
     "execution_count": 10
    }
   ],
   "source": [
    "result = requests.get(generate_url(text, 'kr', 'jp'),\n",
    "            headers={\"Authorization\": \"KakaoAK \"+kai_key}).json()\n",
    "jpn_text = result['translated_text'][0][0]\n",
    "jpn_text\n",
    "#결과값:'本稿では,カカオ翻訳APIの使用法について述べた。'"
   ]
  },
  {
   "source": [
    "# 한글 --> 중국어"
   ],
   "cell_type": "markdown",
   "metadata": {}
  },
  {
   "cell_type": "code",
   "execution_count": 8,
   "metadata": {},
   "outputs": [
    {
     "output_type": "execute_result",
     "data": {
      "text/plain": [
       "'本文件描述了如何使用可可翻译API。'"
      ]
     },
     "metadata": {},
     "execution_count": 8
    }
   ],
   "source": [
    "result = requests.get(generate_url(text, 'kr', 'cn'),\n",
    "            headers={\"Authorization\": \"KakaoAK \"+kai_key}).json()\n",
    "chn_text = result['translated_text'][0][0]\n",
    "chn_text\n",
    "#결과값:'本文件描述了如何使用可可翻译API。'"
   ]
  },
  {
   "source": [
    "# 한글 여러문장(네이버문구) 카카오번역기로--> 영어"
   ],
   "cell_type": "markdown",
   "metadata": {}
  },
  {
   "cell_type": "code",
   "execution_count": 13,
   "metadata": {},
   "outputs": [],
   "source": [
    "text = \"\"\"네이버 클라우드 플랫폼에서는 Clova, papago 등 네이버의 다양한 인공지능 서비스를 API 형태로 제공합니다. \n",
    "고객은 네이버의 인공지능 서비스를 활용하여,\n",
    "최신 기술 기반의 AI 서비스를 구축하고 안정적으로 운영할 수 있습니다..\"\"\"\n",
    "result = requests.get(generate_url(text, 'kr', 'en'),\n",
    "            headers={\"Authorization\": \"KakaoAK \"+kai_key}).json()\n",
    "eng_text = result['translated_text']"
   ]
  },
  {
   "cell_type": "code",
   "execution_count": 14,
   "metadata": {},
   "outputs": [
    {
     "output_type": "execute_result",
     "data": {
      "text/plain": [
       "[['Naver Cloud Platform provides various artificial intelligence services such as Clova and papago in API form.'],\n",
       " [\"Customers use Naver's AI service,\"],\n",
       " ['Build and operate the latest technology-based AI services.']]"
      ]
     },
     "metadata": {},
     "execution_count": 14
    }
   ],
   "source": [
    "eng_text #독특하게 리스트에리스트로 나옴;; \n",
    "#결과값:[['Naver Cloud Platform provides various artificial intelligence services such as Clova and papago in API form.'],\n",
    "#  [\"Customers use Naver's AI service,\"],\n",
    "#  ['Build and operate the latest technology-based AI services.']]"
   ]
  },
  {
   "cell_type": "code",
   "execution_count": 15,
   "metadata": {},
   "outputs": [
    {
     "output_type": "stream",
     "name": "stdout",
     "text": [
      "Naver Cloud Platform provides various artificial intelligence services such as Clova and papago in API form.\nCustomers use Naver's AI service,\nBuild and operate the latest technology-based AI services.\n"
     ]
    }
   ],
   "source": [
    "# 리스트의 리스트의 내용들을 붙이는 반복문ㅋ.ㅋ\n",
    "for nested_element in eng_text:\n",
    "    print(nested_element[0])\n",
    "#결과값Naver Cloud Platform provides various artificial intelligence services such as Clova and papago in API form.\n",
    "# Customers use Naver's AI service,\n",
    "# Build and operate the latest technology-based AI services."
   ]
  },
  {
   "cell_type": "code",
   "execution_count": null,
   "metadata": {},
   "outputs": [],
   "source": []
  }
 ]
}